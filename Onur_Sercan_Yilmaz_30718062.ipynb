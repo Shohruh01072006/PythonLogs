{
 "cells": [
  {
   "cell_type": "markdown",
   "metadata": {},
   "source": [
    "# NumPy ile Lineer Cebir\n",
    "\n"
   ]
  },
  {
   "cell_type": "markdown",
   "metadata": {},
   "source": [
    "Asagidaki satirlari calistirarak en altta yer alan odev sorularini yaptiktan sonra dosyanin adini \n",
    "\n",
    "ad_soyad_ogrencino \n",
    "\n",
    "seklinde degistirerek en gec 18 Subat 23:59'a kadar\n",
    "\n",
    "[bu adrese](https://stdyildizedu-my.sharepoint.com/:f:/g/personal/sbedir_fbe_yildiz_edu_tr/EtMqKYz3ktxIl16Sh4vGEtIBaA6a3-6uw0nyFtqwNyiCGw) yukleyiniz."
   ]
  },
  {
   "cell_type": "code",
   "execution_count": 45,
   "metadata": {},
   "outputs": [],
   "source": [
    "import numpy as np"
   ]
  },
  {
   "cell_type": "markdown",
   "metadata": {},
   "source": [
    "## NumPy Arrayleri\n",
    "\n",
    "1D NumPy array bir sayi listesi gibi dusunulebilir. \n",
    "2D NumPy arrayleri matrislere karsilik gelir. \n",
    "2D NumPy arrayden bir satir veya sutun secersek, sonuc bir 1D NumPy array olur([slice](https://docs.scipy.org/doc/numpy/reference/arrays.indexing.html#basic-slicing-and-indexing)). \n",
    "\n",
    "Karisiklik olmamasi icin her zaman NumPy arraylerimizin tipi(shape), girdi sayisi (size) ve boyutu (dimension) takip edilmelidir."
   ]
  },
  {
   "cell_type": "markdown",
   "metadata": {},
   "source": [
    "### Array Attributes\n",
    "\n",
    "1D (one-dimensional) bir NumPy array olusturup tipi(shape), girdi sayisi (size) ve boyutu (dimension) niteliklerini inceleyelim"
   ]
  },
  {
   "cell_type": "code",
   "execution_count": 46,
   "metadata": {},
   "outputs": [
    {
     "name": "stdout",
     "output_type": "stream",
     "text": [
      "[ 1  3 -2  1]\n"
     ]
    }
   ],
   "source": [
    "a = np.array([1,3,-2,1])\n",
    "print(a)"
   ]
  },
  {
   "cell_type": "code",
   "execution_count": 47,
   "metadata": {},
   "outputs": [
    {
     "data": {
      "text/plain": [
       "1"
      ]
     },
     "execution_count": 47,
     "metadata": {},
     "output_type": "execute_result"
    }
   ],
   "source": [
    "a.ndim"
   ]
  },
  {
   "cell_type": "code",
   "execution_count": 48,
   "metadata": {},
   "outputs": [
    {
     "data": {
      "text/plain": [
       "(4,)"
      ]
     },
     "execution_count": 48,
     "metadata": {},
     "output_type": "execute_result"
    }
   ],
   "source": [
    "a.shape"
   ]
  },
  {
   "cell_type": "code",
   "execution_count": 97,
   "metadata": {},
   "outputs": [
    {
     "data": {
      "text/plain": [
       "4"
      ]
     },
     "execution_count": 97,
     "metadata": {},
     "output_type": "execute_result"
    }
   ],
   "source": [
    "#Deneme1\n",
    "\n",
    "a.shape[0]"
   ]
  },
  {
   "cell_type": "code",
   "execution_count": 49,
   "metadata": {},
   "outputs": [
    {
     "data": {
      "text/plain": [
       "4"
      ]
     },
     "execution_count": 49,
     "metadata": {},
     "output_type": "execute_result"
    }
   ],
   "source": [
    "a.size"
   ]
  },
  {
   "cell_type": "markdown",
   "metadata": {},
   "source": [
    "2D (two-dimensional) NumPy array (matris) olusturalim:"
   ]
  },
  {
   "cell_type": "code",
   "execution_count": 50,
   "metadata": {},
   "outputs": [
    {
     "name": "stdout",
     "output_type": "stream",
     "text": [
      "[[ 1  2]\n",
      " [ 3  7]\n",
      " [-1  5]]\n"
     ]
    }
   ],
   "source": [
    "M = np.array([[1,2],[3,7],[-1,5]])\n",
    "print(M)"
   ]
  },
  {
   "cell_type": "code",
   "execution_count": 51,
   "metadata": {},
   "outputs": [
    {
     "data": {
      "text/plain": [
       "2"
      ]
     },
     "execution_count": 51,
     "metadata": {},
     "output_type": "execute_result"
    }
   ],
   "source": [
    "M.ndim"
   ]
  },
  {
   "cell_type": "code",
   "execution_count": 52,
   "metadata": {},
   "outputs": [
    {
     "data": {
      "text/plain": [
       "(3, 2)"
      ]
     },
     "execution_count": 52,
     "metadata": {},
     "output_type": "execute_result"
    }
   ],
   "source": [
    "M.shape"
   ]
  },
  {
   "cell_type": "code",
   "execution_count": 98,
   "metadata": {},
   "outputs": [
    {
     "data": {
      "text/plain": [
       "2"
      ]
     },
     "execution_count": 98,
     "metadata": {},
     "output_type": "execute_result"
    }
   ],
   "source": [
    "#Deneme\n",
    "\n",
    "M.shape[1]"
   ]
  },
  {
   "cell_type": "code",
   "execution_count": 53,
   "metadata": {},
   "outputs": [
    {
     "data": {
      "text/plain": [
       "6"
      ]
     },
     "execution_count": 53,
     "metadata": {},
     "output_type": "execute_result"
    }
   ],
   "source": [
    "M.size"
   ]
  },
  {
   "cell_type": "markdown",
   "metadata": {},
   "source": [
    "2D NumPy array'den bir satir veya sutun secelim:"
   ]
  },
  {
   "cell_type": "code",
   "execution_count": 54,
   "metadata": {},
   "outputs": [
    {
     "name": "stdout",
     "output_type": "stream",
     "text": [
      "[2 7 5]\n"
     ]
    }
   ],
   "source": [
    "col = M[:,1] # M'nin tum satirlarini ve 1.sutununu iceren elemanlar listesini getirir\n",
    "print(col)"
   ]
  },
  {
   "cell_type": "code",
   "execution_count": 55,
   "metadata": {},
   "outputs": [
    {
     "data": {
      "text/plain": [
       "1"
      ]
     },
     "execution_count": 55,
     "metadata": {},
     "output_type": "execute_result"
    }
   ],
   "source": [
    "col.ndim"
   ]
  },
  {
   "cell_type": "code",
   "execution_count": 56,
   "metadata": {},
   "outputs": [
    {
     "data": {
      "text/plain": [
       "(3,)"
      ]
     },
     "execution_count": 56,
     "metadata": {},
     "output_type": "execute_result"
    }
   ],
   "source": [
    "col.shape"
   ]
  },
  {
   "cell_type": "code",
   "execution_count": 57,
   "metadata": {},
   "outputs": [
    {
     "data": {
      "text/plain": [
       "3"
      ]
     },
     "execution_count": 57,
     "metadata": {},
     "output_type": "execute_result"
    }
   ],
   "source": [
    "col.size"
   ]
  },
  {
   "cell_type": "markdown",
   "metadata": {},
   "source": [
    "Sectigimiz listenin bir sutun vektoru gibi davranmasi icin [reshape](https://docs.scipy.org/doc/numpy/reference/generated/numpy.reshape.html) metodunu kullanmaliyiz "
   ]
  },
  {
   "cell_type": "code",
   "execution_count": 58,
   "metadata": {},
   "outputs": [
    {
     "name": "stdout",
     "output_type": "stream",
     "text": [
      "[2 7 5]\n"
     ]
    }
   ],
   "source": [
    "print(col)"
   ]
  },
  {
   "cell_type": "code",
   "execution_count": 59,
   "metadata": {},
   "outputs": [
    {
     "name": "stdout",
     "output_type": "stream",
     "text": [
      "[[2]\n",
      " [7]\n",
      " [5]]\n"
     ]
    }
   ],
   "source": [
    "column = np.array([2,7,5]).reshape(3,1)\n",
    "print(column)"
   ]
  },
  {
   "cell_type": "code",
   "execution_count": 60,
   "metadata": {},
   "outputs": [
    {
     "name": "stdout",
     "output_type": "stream",
     "text": [
      "Dimensions: 2\n",
      "Shape: (3, 1)\n",
      "Size: 3\n"
     ]
    }
   ],
   "source": [
    "print('Dimensions:', column.ndim)\n",
    "print('Shape:', column.shape)\n",
    "print('Size:', column.size)"
   ]
  },
  {
   "cell_type": "markdown",
   "metadata": {},
   "source": [
    "Ayni icerige sahip olmalarina ragmen `col` ve `column` degiskenleri farkli tipte objelerdir."
   ]
  },
  {
   "cell_type": "code",
   "execution_count": 61,
   "metadata": {},
   "outputs": [
    {
     "name": "stdout",
     "output_type": "stream",
     "text": [
      "[2 7 5]\n"
     ]
    }
   ],
   "source": [
    "print(col)"
   ]
  },
  {
   "cell_type": "code",
   "execution_count": 62,
   "metadata": {},
   "outputs": [
    {
     "name": "stdout",
     "output_type": "stream",
     "text": [
      "Dimensions: 1\n",
      "Shape: (3,)\n",
      "Size: 3\n"
     ]
    }
   ],
   "source": [
    "print('Dimensions:',col.ndim)\n",
    "print('Shape:',col.shape)\n",
    "print('Size:',col.size)"
   ]
  },
  {
   "cell_type": "markdown",
   "metadata": {},
   "source": [
    "## Matrislerde Islemler\n",
    "\n",
    "\n",
    "\n",
    "NumPy arraylerde `+`, `-`, `/`, `*` ve `**` islemleri eleman elemana yapilir."
   ]
  },
  {
   "cell_type": "code",
   "execution_count": 63,
   "metadata": {},
   "outputs": [
    {
     "name": "stdout",
     "output_type": "stream",
     "text": [
      "[[ 3  4]\n",
      " [-1  5]]\n"
     ]
    }
   ],
   "source": [
    "M = np.array([[3,4],[-1,5]])\n",
    "print(M)"
   ]
  },
  {
   "cell_type": "code",
   "execution_count": 64,
   "metadata": {},
   "outputs": [
    {
     "data": {
      "text/plain": [
       "array([[ 9, 16],\n",
       "       [ 1, 25]])"
      ]
     },
     "execution_count": 64,
     "metadata": {},
     "output_type": "execute_result"
    }
   ],
   "source": [
    "M * M"
   ]
  },
  {
   "cell_type": "markdown",
   "metadata": {},
   "source": [
    "### Matris Carpimi\n",
    "\n",
    "NumPy arraylerde matris carpimi icin `@` operatoru kullanilir."
   ]
  },
  {
   "cell_type": "code",
   "execution_count": 65,
   "metadata": {},
   "outputs": [
    {
     "data": {
      "text/plain": [
       "array([[ 5, 32],\n",
       "       [-8, 21]])"
      ]
     },
     "execution_count": 65,
     "metadata": {},
     "output_type": "execute_result"
    }
   ],
   "source": [
    "M @ M"
   ]
  },
  {
   "cell_type": "code",
   "execution_count": 66,
   "metadata": {},
   "outputs": [
    {
     "data": {
      "text/plain": [
       "array([78])"
      ]
     },
     "execution_count": 66,
     "metadata": {},
     "output_type": "execute_result"
    }
   ],
   "source": [
    "col @ column"
   ]
  },
  {
   "cell_type": "markdown",
   "metadata": {},
   "source": [
    "### Birim Matris"
   ]
  },
  {
   "cell_type": "code",
   "execution_count": 67,
   "metadata": {},
   "outputs": [],
   "source": [
    "I = np.eye(2) #2x2 birim matrisi olusturur."
   ]
  },
  {
   "cell_type": "code",
   "execution_count": 68,
   "metadata": {},
   "outputs": [
    {
     "name": "stdout",
     "output_type": "stream",
     "text": [
      "[[1. 0.]\n",
      " [0. 1.]]\n"
     ]
    }
   ],
   "source": [
    "print(I)"
   ]
  },
  {
   "cell_type": "markdown",
   "metadata": {},
   "source": [
    "Simdi \n",
    "\n",
    "$$\n",
    "A = \\begin{bmatrix}\n",
    "1 & 3 \\\\\\\n",
    "-1 & 7\n",
    "\\end{bmatrix}\n",
    "\\ \\ \\ \\\n",
    "B = \\begin{bmatrix}\n",
    "5 & 2 \\\\\\\n",
    "1 & 2\n",
    "\\end{bmatrix}\n",
    "$$\n",
    "\n",
    "ve $I$ 2x2 birim matris olmak uzere $2I + 3A - AB$'yi hesaplayalim:"
   ]
  },
  {
   "cell_type": "code",
   "execution_count": 69,
   "metadata": {},
   "outputs": [
    {
     "name": "stdout",
     "output_type": "stream",
     "text": [
      "[[ 1  3]\n",
      " [-1  7]]\n"
     ]
    }
   ],
   "source": [
    "A = np.array([[1,3],[-1,7]])\n",
    "print(A)"
   ]
  },
  {
   "cell_type": "code",
   "execution_count": 70,
   "metadata": {},
   "outputs": [
    {
     "name": "stdout",
     "output_type": "stream",
     "text": [
      "[[5 2]\n",
      " [1 2]]\n"
     ]
    }
   ],
   "source": [
    "B = np.array([[5,2],[1,2]])\n",
    "print(B)"
   ]
  },
  {
   "cell_type": "code",
   "execution_count": 71,
   "metadata": {},
   "outputs": [
    {
     "name": "stdout",
     "output_type": "stream",
     "text": [
      "[[1. 0.]\n",
      " [0. 1.]]\n"
     ]
    }
   ],
   "source": [
    "I = np.eye(2)\n",
    "print(I)"
   ]
  },
  {
   "cell_type": "code",
   "execution_count": 72,
   "metadata": {},
   "outputs": [
    {
     "data": {
      "text/plain": [
       "array([[-3.,  1.],\n",
       "       [-5., 11.]])"
      ]
     },
     "execution_count": 72,
     "metadata": {},
     "output_type": "execute_result"
    }
   ],
   "source": [
    "2*I + 3*A - A@B"
   ]
  },
  {
   "cell_type": "code",
   "execution_count": 194,
   "metadata": {},
   "outputs": [
    {
     "data": {
      "text/plain": [
       "array([[-2, 24],\n",
       "       [-8, 46]])"
      ]
     },
     "execution_count": 194,
     "metadata": {},
     "output_type": "execute_result"
    }
   ],
   "source": [
    "A@A"
   ]
  },
  {
   "cell_type": "code",
   "execution_count": null,
   "metadata": {},
   "outputs": [],
   "source": [
    "#Deneme\n"
   ]
  },
  {
   "cell_type": "markdown",
   "metadata": {},
   "source": [
    "### Matris Kuvvetleri"
   ]
  },
  {
   "cell_type": "code",
   "execution_count": 73,
   "metadata": {},
   "outputs": [],
   "source": [
    "from numpy.linalg import matrix_power as mpow"
   ]
  },
  {
   "cell_type": "code",
   "execution_count": 74,
   "metadata": {},
   "outputs": [
    {
     "name": "stdout",
     "output_type": "stream",
     "text": [
      "[[ 3  4]\n",
      " [-1  5]]\n"
     ]
    }
   ],
   "source": [
    "M = np.array([[3,4],[-1,5]])\n",
    "print(M)"
   ]
  },
  {
   "cell_type": "code",
   "execution_count": 181,
   "metadata": {},
   "outputs": [
    {
     "name": "stdout",
     "output_type": "stream",
     "text": [
      "2\n"
     ]
    }
   ],
   "source": [
    "#Deneme\n",
    "\n",
    "print(M.shape[1])"
   ]
  },
  {
   "cell_type": "code",
   "execution_count": 75,
   "metadata": {},
   "outputs": [
    {
     "data": {
      "text/plain": [
       "array([[ 5, 32],\n",
       "       [-8, 21]])"
      ]
     },
     "execution_count": 75,
     "metadata": {},
     "output_type": "execute_result"
    }
   ],
   "source": [
    "mpow(M,2)"
   ]
  },
  {
   "cell_type": "code",
   "execution_count": 76,
   "metadata": {},
   "outputs": [
    {
     "data": {
      "text/plain": [
       "array([[-1525,  3236],\n",
       "       [ -809,    93]])"
      ]
     },
     "execution_count": 76,
     "metadata": {},
     "output_type": "execute_result"
    }
   ],
   "source": [
    "mpow(M,5)"
   ]
  },
  {
   "cell_type": "code",
   "execution_count": 77,
   "metadata": {},
   "outputs": [
    {
     "data": {
      "text/plain": [
       "array([[-1525,  3236],\n",
       "       [ -809,    93]])"
      ]
     },
     "execution_count": 77,
     "metadata": {},
     "output_type": "execute_result"
    }
   ],
   "source": [
    "M @ M @ M @ M @ M"
   ]
  },
  {
   "cell_type": "code",
   "execution_count": 78,
   "metadata": {},
   "outputs": [
    {
     "data": {
      "text/plain": [
       "array([[-17, 180],\n",
       "       [-45,  73]])"
      ]
     },
     "execution_count": 78,
     "metadata": {},
     "output_type": "execute_result"
    }
   ],
   "source": [
    "mpow(M,3)"
   ]
  },
  {
   "cell_type": "code",
   "execution_count": 79,
   "metadata": {},
   "outputs": [
    {
     "data": {
      "text/plain": [
       "array([[-17, 180],\n",
       "       [-45,  73]])"
      ]
     },
     "execution_count": 79,
     "metadata": {},
     "output_type": "execute_result"
    }
   ],
   "source": [
    "M @ M @ M"
   ]
  },
  {
   "cell_type": "markdown",
   "metadata": {},
   "source": [
    "###  Transpoz"
   ]
  },
  {
   "cell_type": "code",
   "execution_count": 80,
   "metadata": {},
   "outputs": [
    {
     "name": "stdout",
     "output_type": "stream",
     "text": [
      "[[ 3  4]\n",
      " [-1  5]]\n"
     ]
    }
   ],
   "source": [
    "print(M)"
   ]
  },
  {
   "cell_type": "code",
   "execution_count": 489,
   "metadata": {},
   "outputs": [
    {
     "name": "stdout",
     "output_type": "stream",
     "text": [
      "[[ 3 -1]\n",
      " [ 4  5]]\n"
     ]
    }
   ],
   "source": [
    "print(M.T)"
   ]
  },
  {
   "cell_type": "code",
   "execution_count": 82,
   "metadata": {},
   "outputs": [
    {
     "data": {
      "text/plain": [
       "array([[25, 17],\n",
       "       [17, 26]])"
      ]
     },
     "execution_count": 82,
     "metadata": {},
     "output_type": "execute_result"
    }
   ],
   "source": [
    "M @ M.T"
   ]
  },
  {
   "cell_type": "markdown",
   "metadata": {},
   "source": [
    "### Trace (Iz)"
   ]
  },
  {
   "cell_type": "code",
   "execution_count": 83,
   "metadata": {},
   "outputs": [
    {
     "data": {
      "text/plain": [
       "8"
      ]
     },
     "execution_count": 83,
     "metadata": {},
     "output_type": "execute_result"
    }
   ],
   "source": [
    "np.trace(A)"
   ]
  },
  {
   "cell_type": "code",
   "execution_count": 84,
   "metadata": {},
   "outputs": [
    {
     "name": "stdout",
     "output_type": "stream",
     "text": [
      "[[1 1]\n",
      " [4 6]]\n"
     ]
    }
   ],
   "source": [
    "N = np.random.randint(0,10,[2,2])\n",
    "print(N)"
   ]
  },
  {
   "cell_type": "markdown",
   "metadata": {},
   "source": [
    "## Odev Sorulari\n",
    "\n",
    "1. Girdi parametreleri $A$, $i$ ve $j$ olan ve sonuc olarak $A$'nin $i$. ve $j$. satirlarinin ic carpimini donduren bir fonksiyon yaziniz (indexleme 0'dan baslar).\n",
    "2. $A = \\begin{bmatrix} 3 & 4 \\\\\\ -1 & 2 \\end{bmatrix}$ ve $B = \\begin{bmatrix} 5 & 2 \\\\\\ 8 & -3 \\end{bmatrix}$ olmak uzere $AB + 2B^2 - I$ yi hesaplayiniz.\n",
    "3. Ustteki N matrisi gibi random ureteceginiz bir $4x4$luk $N$ matrisi icin, \n",
    "    \n",
    "    a.) print(N) ile $N$'yi yazdiriniz ve $N$'nin izini bulunuz.\n",
    "    \n",
    "    b.) $NN^T$ sonucunu bulunuz.\n",
    "    \n",
    "    c.) $NN^T$ sonucu olan matrisin 1. ve 3. satirlarinin ic carpimini 1.soruda yazdiginiz fonksiyonu kullanarak bulunuz."
   ]
  },
  {
   "cell_type": "code",
   "execution_count": 680,
   "metadata": {},
   "outputs": [],
   "source": [
    "def satir_ic_carpim(A,i,j):\n",
    "    # Eger i satir indexi disinda olursa hata dondurmeli: Satir indexi 0'dan baslar, A.shape[0]-1'e kadar gider.\n",
    "    # A.shape = (2,2) ise A.shape[0] = 2yi verir. A.shape[1] = 2yi verir.\n",
    "    # i= satır ve j= sütun sayısı için\n",
    "    if  (i>A.shape[0] or i<0):\n",
    "        return \"i matris satir indeksi disinda! lutfen i icin gecerli bir deger seciniz.\"\n",
    "    # Eger j sutun indexi disinda olursa hata dondurmeli: Sutun indexi 0'dan baslar, A.shape[1]-1'e kadar gider.\n",
    "    elif (j>A.shape[1] or j<0 ):\n",
    "        return \"j matris sutun indeksi disinda! lutfen j icin gecerli bir deger seciniz.\"\n",
    "    # Tek satir kodla\n",
    "        # A'nin i.satirini secmeli\n",
    "        # A'nin j.satirini secip sutun matrisine cevirmeli: \n",
    "        # Bu ikisinin matris carpimini bulmali\n",
    "    # Sonucu tamsayiya cevirmelisiniz. (int(deger) deger'i tamsayiya cevirir)\n",
    "   \n",
    "    else:\n",
    "        \n",
    "        result = A[i]@A[j].T\n",
    "        \n",
    "                \n",
    "        return int(result)\n",
    "    \n",
    "    \n",
    "    \n",
    "A = np.array([[3,4],[-1,8]])\n",
    "    ## Asagidakileri yaparak fonksiyonunuzun dogrulugunu kontrol ediniz."
   ]
  },
  {
   "cell_type": "code",
   "execution_count": 681,
   "metadata": {},
   "outputs": [
    {
     "data": {
      "text/plain": [
       "array([[ 3,  4],\n",
       "       [-1,  8]])"
      ]
     },
     "execution_count": 681,
     "metadata": {},
     "output_type": "execute_result"
    }
   ],
   "source": [
    "A"
   ]
  },
  {
   "cell_type": "code",
   "execution_count": 682,
   "metadata": {},
   "outputs": [
    {
     "data": {
      "text/plain": [
       "'i matris satir indeksi disinda! lutfen i icin gecerli bir deger seciniz.'"
      ]
     },
     "execution_count": 682,
     "metadata": {},
     "output_type": "execute_result"
    }
   ],
   "source": [
    "satir_ic_carpim(M,-1,1)"
   ]
  },
  {
   "cell_type": "code",
   "execution_count": 683,
   "metadata": {},
   "outputs": [
    {
     "data": {
      "text/plain": [
       "'i matris satir indeksi disinda! lutfen i icin gecerli bir deger seciniz.'"
      ]
     },
     "execution_count": 683,
     "metadata": {},
     "output_type": "execute_result"
    }
   ],
   "source": [
    "satir_ic_carpim(M,3,1)"
   ]
  },
  {
   "cell_type": "code",
   "execution_count": 684,
   "metadata": {},
   "outputs": [
    {
     "data": {
      "text/plain": [
       "'j matris sutun indeksi disinda! lutfen j icin gecerli bir deger seciniz.'"
      ]
     },
     "execution_count": 684,
     "metadata": {},
     "output_type": "execute_result"
    }
   ],
   "source": [
    "satir_ic_carpim(M,1,-1)"
   ]
  },
  {
   "cell_type": "code",
   "execution_count": 685,
   "metadata": {},
   "outputs": [
    {
     "data": {
      "text/plain": [
       "'j matris sutun indeksi disinda! lutfen j icin gecerli bir deger seciniz.'"
      ]
     },
     "execution_count": 685,
     "metadata": {},
     "output_type": "execute_result"
    }
   ],
   "source": [
    "satir_ic_carpim(M,1,3)"
   ]
  },
  {
   "cell_type": "code",
   "execution_count": 686,
   "metadata": {},
   "outputs": [
    {
     "data": {
      "text/plain": [
       "65"
      ]
     },
     "execution_count": 686,
     "metadata": {},
     "output_type": "execute_result"
    }
   ],
   "source": [
    "satir_ic_carpim(M,1,1)"
   ]
  },
  {
   "cell_type": "code",
   "execution_count": 687,
   "metadata": {},
   "outputs": [
    {
     "data": {
      "text/plain": [
       "29"
      ]
     },
     "execution_count": 687,
     "metadata": {},
     "output_type": "execute_result"
    }
   ],
   "source": [
    "#Deneme\n",
    "\n",
    "satir_ic_carpim(M,0,1)"
   ]
  },
  {
   "cell_type": "markdown",
   "metadata": {},
   "source": [
    "#####################################################################"
   ]
  },
  {
   "cell_type": "code",
   "execution_count": 688,
   "metadata": {},
   "outputs": [
    {
     "name": "stdout",
     "output_type": "stream",
     "text": [
      "[[128.   2.]\n",
      " [ 43.  41.]]\n"
     ]
    }
   ],
   "source": [
    "#2.sorunun Cevabi:\n",
    "\n",
    "A = np.array([[3,4],[-1,2]])\n",
    "B = np.array([[5,2],[8,-3]])\n",
    "\n",
    "I= np.eye(2) #I 2x2lik birim matris\n",
    "\n",
    "print(A@B +2*mpow(B,2)+(-1*I))\n",
    "#print(A@B +2*(B@B)+(-1*I)) şeklinde de yazılabilir.\n",
    "\n"
   ]
  },
  {
   "cell_type": "markdown",
   "metadata": {},
   "source": [
    "#####################################################################"
   ]
  },
  {
   "cell_type": "code",
   "execution_count": 689,
   "metadata": {
    "scrolled": true
   },
   "outputs": [
    {
     "name": "stdout",
     "output_type": "stream",
     "text": [
      "[[6 3 2 7]\n",
      " [0 2 8 8]\n",
      " [1 9 8 9]\n",
      " [5 3 7 7]]\n",
      "\n",
      "\n",
      "Trace of N:  23\n"
     ]
    }
   ],
   "source": [
    "#3.sorunun Cevabi:\n",
    "#a\n",
    "N = np.random.randint(0,10,[4,4])\n",
    "print(N)\n",
    "print(\"\\n\")\n",
    "\n",
    "print(\"Trace of N: \",np.trace(N))\n",
    "\n",
    "\n"
   ]
  },
  {
   "cell_type": "code",
   "execution_count": 690,
   "metadata": {},
   "outputs": [
    {
     "name": "stdout",
     "output_type": "stream",
     "text": [
      "[[ 98  78 112 102]\n",
      " [ 78 132 154 118]\n",
      " [112 154 227 151]\n",
      " [102 118 151 132]]\n"
     ]
    }
   ],
   "source": [
    "#b\n",
    "nnt= N@N.T\n",
    "print(nnt)"
   ]
  },
  {
   "cell_type": "code",
   "execution_count": 691,
   "metadata": {},
   "outputs": [
    {
     "data": {
      "text/plain": [
       "118"
      ]
     },
     "execution_count": 691,
     "metadata": {},
     "output_type": "execute_result"
    }
   ],
   "source": [
    "#c\n",
    "\n",
    "satir_ic_carpim(N,1,3)"
   ]
  }
 ],
 "metadata": {
  "kernelspec": {
   "display_name": "Python 3",
   "language": "python",
   "name": "python3"
  },
  "language_info": {
   "codemirror_mode": {
    "name": "ipython",
    "version": 3
   },
   "file_extension": ".py",
   "mimetype": "text/x-python",
   "name": "python",
   "nbconvert_exporter": "python",
   "pygments_lexer": "ipython3",
   "version": "3.7.4"
  }
 },
 "nbformat": 4,
 "nbformat_minor": 2
}
